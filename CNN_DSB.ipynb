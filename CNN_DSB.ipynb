{
 "cells": [
  {
   "cell_type": "markdown",
   "id": "0e208e4d",
   "metadata": {},
   "source": [
    "# Foul Detection Model"
   ]
  },
  {
   "cell_type": "code",
   "execution_count": 7,
   "id": "324b99e9",
   "metadata": {},
   "outputs": [],
   "source": [
    "import os\n",
    "import joblib\n",
    "from sklearn.feature_extraction.text import CountVectorizer\n",
    "\n",
    "# Assuming cv is your CountVectorizer instance\n",
    "cv = CountVectorizer()\n",
    "\n",
    "# Load foul_detector_model with try-except block\n",
    "try:\n",
    "    md = joblib.load(\"foul_detector_model.joblib\")\n",
    "    \n",
    "    # Get the absolute path to the current directory\n",
    "    current_directory = os.path.abspath(os.getcwd())\n",
    "    \n",
    "    # Construct the absolute path to the vocabulary file\n",
    "    vocabulary_path = os.path.join(current_directory, \"vocabulary.joblib\")\n",
    "    \n",
    "    # Check if the vocabulary file exists before loading\n",
    "    if os.path.exists(vocabulary_path):\n",
    "        # Load the vocabulary\n",
    "        vocabulary = joblib.load(vocabulary_path)\n",
    "        \n",
    "        # Set the vocabulary for CountVectorizer\n",
    "        cv.vocabulary_ = vocabulary\n",
    "    else:\n",
    "        print(\"Vocabulary file not found.\")\n",
    "    \n",
    "except (ValueError, KeyError) as e:\n",
    "    print(f\"Error loading the model or vocabulary: {e}\")\n",
    "    # Additional troubleshooting or fallback action may be needed here\n",
    "    # You might want to retrain and save the model if there are no compatibility issues\n",
    "\n",
    "def detect(test_data):\n",
    "    # Assuming the model was trained with the same CountVectorizer instance\n",
    "    df = cv.transform([test_data]).toarray()\n",
    "    m = int(md.predict(df))\n",
    "    return m\n"
   ]
  },
  {
   "cell_type": "markdown",
   "id": "0740ee34",
   "metadata": {},
   "source": [
    "# Voice detection model"
   ]
  },
  {
   "cell_type": "code",
   "execution_count": 8,
   "id": "bcc84adc",
   "metadata": {},
   "outputs": [
    {
     "name": "stdout",
     "output_type": "stream",
     "text": [
      "WARNING:tensorflow:From C:\\Users\\braje\\anaconda3\\Lib\\site-packages\\keras\\src\\losses.py:2976: The name tf.losses.sparse_softmax_cross_entropy is deprecated. Please use tf.compat.v1.losses.sparse_softmax_cross_entropy instead.\n",
      "\n"
     ]
    }
   ],
   "source": [
    "import os\n",
    "import numpy as np\n",
    "import librosa\n",
    "from sklearn.model_selection import train_test_split\n",
    "from sklearn.preprocessing import LabelEncoder\n",
    "from tensorflow.keras import layers, models, callbacks\n"
   ]
  },
  {
   "cell_type": "code",
   "execution_count": 9,
   "id": "9e158db9",
   "metadata": {},
   "outputs": [],
   "source": [
    "# Function to extract features from audio data\n",
    "def extract_features(file_path):\n",
    "    audio_data, sample_rate = librosa.load(file_path, res_type='kaiser_fast')\n",
    "    mfccs = librosa.feature.mfcc(y=audio_data, sr=sample_rate, n_mfcc=13)\n",
    "    return np.mean(mfccs, axis=1)"
   ]
  },
  {
   "cell_type": "code",
   "execution_count": 10,
   "id": "a9a83f9f",
   "metadata": {},
   "outputs": [
    {
     "name": "stdout",
     "output_type": "stream",
     "text": [
      "WARNING:tensorflow:From C:\\Users\\braje\\anaconda3\\Lib\\site-packages\\keras\\src\\backend.py:1398: The name tf.executing_eagerly_outside_functions is deprecated. Please use tf.compat.v1.executing_eagerly_outside_functions instead.\n",
      "\n",
      "WARNING:tensorflow:From C:\\Users\\braje\\anaconda3\\Lib\\site-packages\\keras\\src\\backend.py:6642: The name tf.nn.max_pool is deprecated. Please use tf.nn.max_pool2d instead.\n",
      "\n"
     ]
    }
   ],
   "source": [
    "# Load the model\n",
    "loaded_model = models.load_model('speaker_identification_model.h5')\n",
    "\n",
    "# Load the label encoder\n",
    "loaded_label_encoder = LabelEncoder()\n",
    "loaded_label_encoder.classes_ = np.load('label_encoder.npy')\n",
    "\n",
    "def Recog_voice(new_audio_file_wav):\n",
    "    # Example: Get predictions for a new WAV audio file\n",
    "    #new_audio_file_wav = 'd_v.wav'\n",
    "    new_features_wav = extract_features(new_audio_file_wav)\n",
    "\n",
    "    # Reshape the input data to match the model's input shape\n",
    "    new_features_reshaped_wav = new_features_wav.reshape(1, len(new_features_wav), 1)\n",
    "\n",
    "    # Make predictions\n",
    "    predictions_wav = loaded_model.predict(new_features_reshaped_wav)  # Use loaded_model instead of model\n",
    "\n",
    "    # Get the index with the highest predicted value\n",
    "    predicted_index_wav = np.argmax(predictions_wav)\n",
    "\n",
    "    # Decode the predicted labels using the loaded label encoder\n",
    "    predicted_label_wav = loaded_label_encoder.inverse_transform(np.array([predicted_index_wav])).reshape(1, -1)\n",
    "\n",
    "    print(f'Predicted Speaker: {predicted_label_wav[0]}')\n",
    "    return predicted_label_wav[0]\n"
   ]
  },
  {
   "cell_type": "markdown",
   "id": "a674ab76",
   "metadata": {},
   "source": [
    "# Storing Database"
   ]
  },
  {
   "cell_type": "code",
   "execution_count": 11,
   "id": "bb25b069",
   "metadata": {
    "scrolled": false
   },
   "outputs": [],
   "source": [
    "import cv2\n",
    "import librosa\n",
    "import numpy as np\n",
    "import mysql.connector"
   ]
  },
  {
   "cell_type": "code",
   "execution_count": 12,
   "id": "94523679",
   "metadata": {},
   "outputs": [],
   "source": [
    "def storedata(audio_file_path):   \n",
    "    mydb = mysql.connector.connect(\n",
    "        host =\"localhost\",\n",
    "        user =\"root\",\n",
    "        password =\"Anushka@123\",\n",
    "        database = \"foul_db\"\n",
    "    )\n",
    "\n",
    "    print(mydb)\n",
    "    cur = mydb.cursor()\n",
    "\n",
    "    # cur.execute(\"CREATE TABLE Students (id INT AUTO_INCREMENT PRIMARY KEY, name VARCHAR(255) NOT NULL)\")\n",
    "\n",
    "    #cur.execute(\"CREATE TABLE Defaulters_list (ID INT PRIMARY KEY, audio VARCHAR(255) NOT NULL, fine DECIMAL(10, 2) NOT NULL, FOREIGN KEY (ID) REFERENCES Students(id))\")\n",
    "\n",
    "    # Uncomment the next line if you're inserting data into the Students table\n",
    "    # cur.execute(\"INSERT INTO Students (name) VALUES ('Kratika')\")\n",
    "\n",
    "\n",
    "    # Execute the SELECT query\n",
    "    select_query = f\"SELECT id FROM Students WHERE name='{S_name[0]}'\"\n",
    "    cur.execute(select_query)\n",
    "\n",
    "    # Fetch the result\n",
    "    result = cur.fetchone()\n",
    "\n",
    "    # Check if result is not None\n",
    "    if result:\n",
    "        student_id = result[0]\n",
    "        fine=100\n",
    "        # Use Binary class to handle binary data\n",
    "        insert_query = \"INSERT INTO Defaulters_list (ID,audio,fine) VALUES (%s, %s,%s)\"\n",
    "        cur.execute(insert_query, (student_id,audio_file_path,fine))\n",
    "\n",
    "        # Commit the changes\n",
    "        mydb.commit()\n",
    "    else:\n",
    "        print(\"No student found with the given name.\")\n",
    "\n",
    "    # Close the cursor\n",
    "    cur.close()\n"
   ]
  },
  {
   "cell_type": "markdown",
   "id": "aec1de8b",
   "metadata": {},
   "source": [
    "# Dashboard"
   ]
  },
  {
   "cell_type": "code",
   "execution_count": null,
   "id": "6d8ee0ae",
   "metadata": {},
   "outputs": [
    {
     "name": "stdout",
     "output_type": "stream",
     "text": [
      "Listening...\n",
      "Text from audio:\n",
      "oh fuck\n",
      "Status: Foul Detected\n",
      "1/1 [==============================] - 1s 570ms/step\n",
      "Predicted Speaker: ['Kratika']\n",
      "<mysql.connector.connection_cext.CMySQLConnection object at 0x000002CE819B8150>\n"
     ]
    },
    {
     "ename": "IntegrityError",
     "evalue": "1062 (23000): Duplicate entry '13' for key 'defaulters_list.PRIMARY'",
     "output_type": "error",
     "traceback": [
      "\u001b[1;31m---------------------------------------------------------------------------\u001b[0m",
      "\u001b[1;31mMySQLInterfaceError\u001b[0m                       Traceback (most recent call last)",
      "File \u001b[1;32m~\\anaconda3\\Lib\\site-packages\\mysql\\connector\\connection_cext.py:661\u001b[0m, in \u001b[0;36mCMySQLConnection.cmd_query\u001b[1;34m(self, query, raw, buffered, raw_as_string)\u001b[0m\n\u001b[0;32m    660\u001b[0m         query \u001b[38;5;241m=\u001b[39m query\u001b[38;5;241m.\u001b[39mencode(\u001b[38;5;124m\"\u001b[39m\u001b[38;5;124mutf-8\u001b[39m\u001b[38;5;124m\"\u001b[39m)\n\u001b[1;32m--> 661\u001b[0m     \u001b[38;5;28mself\u001b[39m\u001b[38;5;241m.\u001b[39m_cmysql\u001b[38;5;241m.\u001b[39mquery(\n\u001b[0;32m    662\u001b[0m         query,\n\u001b[0;32m    663\u001b[0m         raw\u001b[38;5;241m=\u001b[39mraw,\n\u001b[0;32m    664\u001b[0m         buffered\u001b[38;5;241m=\u001b[39mbuffered,\n\u001b[0;32m    665\u001b[0m         raw_as_string\u001b[38;5;241m=\u001b[39mraw_as_string,\n\u001b[0;32m    666\u001b[0m         query_attrs\u001b[38;5;241m=\u001b[39m\u001b[38;5;28mself\u001b[39m\u001b[38;5;241m.\u001b[39mquery_attrs,\n\u001b[0;32m    667\u001b[0m     )\n\u001b[0;32m    668\u001b[0m \u001b[38;5;28;01mexcept\u001b[39;00m MySQLInterfaceError \u001b[38;5;28;01mas\u001b[39;00m err:\n",
      "\u001b[1;31mMySQLInterfaceError\u001b[0m: Duplicate entry '13' for key 'defaulters_list.PRIMARY'",
      "\nThe above exception was the direct cause of the following exception:\n",
      "\u001b[1;31mIntegrityError\u001b[0m                            Traceback (most recent call last)",
      "Cell \u001b[1;32mIn[13], line 70\u001b[0m\n\u001b[0;32m     68\u001b[0m \u001b[38;5;28mprint\u001b[39m(\u001b[38;5;124m\"\u001b[39m\u001b[38;5;124mStatus: Foul Detected\u001b[39m\u001b[38;5;124m\"\u001b[39m)\n\u001b[0;32m     69\u001b[0m S_name \u001b[38;5;241m=\u001b[39m Recog_voice(audio_file_path)\n\u001b[1;32m---> 70\u001b[0m storedata(audio_file_path)\n",
      "Cell \u001b[1;32mIn[12], line 33\u001b[0m, in \u001b[0;36mstoredata\u001b[1;34m(audio_file_path)\u001b[0m\n\u001b[0;32m     31\u001b[0m \u001b[38;5;66;03m# Use Binary class to handle binary data\u001b[39;00m\n\u001b[0;32m     32\u001b[0m insert_query \u001b[38;5;241m=\u001b[39m \u001b[38;5;124m\"\u001b[39m\u001b[38;5;124mINSERT INTO Defaulters_list (ID,audio,fine) VALUES (\u001b[39m\u001b[38;5;132;01m%s\u001b[39;00m\u001b[38;5;124m, \u001b[39m\u001b[38;5;132;01m%s\u001b[39;00m\u001b[38;5;124m,\u001b[39m\u001b[38;5;132;01m%s\u001b[39;00m\u001b[38;5;124m)\u001b[39m\u001b[38;5;124m\"\u001b[39m\n\u001b[1;32m---> 33\u001b[0m cur\u001b[38;5;241m.\u001b[39mexecute(insert_query, (student_id,audio_file_path,fine))\n\u001b[0;32m     35\u001b[0m \u001b[38;5;66;03m# Commit the changes\u001b[39;00m\n\u001b[0;32m     36\u001b[0m mydb\u001b[38;5;241m.\u001b[39mcommit()\n",
      "File \u001b[1;32m~\\anaconda3\\Lib\\site-packages\\mysql\\connector\\cursor_cext.py:374\u001b[0m, in \u001b[0;36mCMySQLCursor.execute\u001b[1;34m(self, operation, params, multi)\u001b[0m\n\u001b[0;32m    369\u001b[0m             \u001b[38;5;28;01mraise\u001b[39;00m ProgrammingError(\n\u001b[0;32m    370\u001b[0m                 \u001b[38;5;124m\"\u001b[39m\u001b[38;5;124mNot all parameters were used in the SQL statement\u001b[39m\u001b[38;5;124m\"\u001b[39m\n\u001b[0;32m    371\u001b[0m             )\n\u001b[0;32m    373\u001b[0m \u001b[38;5;28;01mtry\u001b[39;00m:\n\u001b[1;32m--> 374\u001b[0m     result \u001b[38;5;241m=\u001b[39m \u001b[38;5;28mself\u001b[39m\u001b[38;5;241m.\u001b[39m_cnx\u001b[38;5;241m.\u001b[39mcmd_query(\n\u001b[0;32m    375\u001b[0m         stmt,\n\u001b[0;32m    376\u001b[0m         raw\u001b[38;5;241m=\u001b[39m\u001b[38;5;28mself\u001b[39m\u001b[38;5;241m.\u001b[39m_raw,\n\u001b[0;32m    377\u001b[0m         buffered\u001b[38;5;241m=\u001b[39m\u001b[38;5;28mself\u001b[39m\u001b[38;5;241m.\u001b[39m_buffered,\n\u001b[0;32m    378\u001b[0m         raw_as_string\u001b[38;5;241m=\u001b[39m\u001b[38;5;28mself\u001b[39m\u001b[38;5;241m.\u001b[39m_raw_as_string,\n\u001b[0;32m    379\u001b[0m     )\n\u001b[0;32m    380\u001b[0m \u001b[38;5;28;01mexcept\u001b[39;00m MySQLInterfaceError \u001b[38;5;28;01mas\u001b[39;00m err:\n\u001b[0;32m    381\u001b[0m     \u001b[38;5;28;01mraise\u001b[39;00m get_mysql_exception(\n\u001b[0;32m    382\u001b[0m         msg\u001b[38;5;241m=\u001b[39merr\u001b[38;5;241m.\u001b[39mmsg, errno\u001b[38;5;241m=\u001b[39merr\u001b[38;5;241m.\u001b[39merrno, sqlstate\u001b[38;5;241m=\u001b[39merr\u001b[38;5;241m.\u001b[39msqlstate\n\u001b[0;32m    383\u001b[0m     ) \u001b[38;5;28;01mfrom\u001b[39;00m \u001b[38;5;21;01merr\u001b[39;00m\n",
      "File \u001b[1;32m~\\anaconda3\\Lib\\site-packages\\mysql\\connector\\opentelemetry\\context_propagation.py:74\u001b[0m, in \u001b[0;36mwith_context_propagation.<locals>.wrapper\u001b[1;34m(cnx, *args, **kwargs)\u001b[0m\n\u001b[0;32m     72\u001b[0m \u001b[38;5;250m\u001b[39m\u001b[38;5;124;03m\"\"\"Context propagation decorator.\"\"\"\u001b[39;00m\n\u001b[0;32m     73\u001b[0m \u001b[38;5;28;01mif\u001b[39;00m \u001b[38;5;129;01mnot\u001b[39;00m OTEL_ENABLED \u001b[38;5;129;01mor\u001b[39;00m \u001b[38;5;129;01mnot\u001b[39;00m cnx\u001b[38;5;241m.\u001b[39motel_context_propagation:\n\u001b[1;32m---> 74\u001b[0m     \u001b[38;5;28;01mreturn\u001b[39;00m method(cnx, \u001b[38;5;241m*\u001b[39margs, \u001b[38;5;241m*\u001b[39m\u001b[38;5;241m*\u001b[39mkwargs)\n\u001b[0;32m     76\u001b[0m current_span \u001b[38;5;241m=\u001b[39m trace\u001b[38;5;241m.\u001b[39mget_current_span()\n\u001b[0;32m     77\u001b[0m tp_header \u001b[38;5;241m=\u001b[39m \u001b[38;5;28;01mNone\u001b[39;00m\n",
      "File \u001b[1;32m~\\anaconda3\\Lib\\site-packages\\mysql\\connector\\connection_cext.py:669\u001b[0m, in \u001b[0;36mCMySQLConnection.cmd_query\u001b[1;34m(self, query, raw, buffered, raw_as_string)\u001b[0m\n\u001b[0;32m    661\u001b[0m     \u001b[38;5;28mself\u001b[39m\u001b[38;5;241m.\u001b[39m_cmysql\u001b[38;5;241m.\u001b[39mquery(\n\u001b[0;32m    662\u001b[0m         query,\n\u001b[0;32m    663\u001b[0m         raw\u001b[38;5;241m=\u001b[39mraw,\n\u001b[1;32m   (...)\u001b[0m\n\u001b[0;32m    666\u001b[0m         query_attrs\u001b[38;5;241m=\u001b[39m\u001b[38;5;28mself\u001b[39m\u001b[38;5;241m.\u001b[39mquery_attrs,\n\u001b[0;32m    667\u001b[0m     )\n\u001b[0;32m    668\u001b[0m \u001b[38;5;28;01mexcept\u001b[39;00m MySQLInterfaceError \u001b[38;5;28;01mas\u001b[39;00m err:\n\u001b[1;32m--> 669\u001b[0m     \u001b[38;5;28;01mraise\u001b[39;00m get_mysql_exception(\n\u001b[0;32m    670\u001b[0m         err\u001b[38;5;241m.\u001b[39merrno, msg\u001b[38;5;241m=\u001b[39merr\u001b[38;5;241m.\u001b[39mmsg, sqlstate\u001b[38;5;241m=\u001b[39merr\u001b[38;5;241m.\u001b[39msqlstate\n\u001b[0;32m    671\u001b[0m     ) \u001b[38;5;28;01mfrom\u001b[39;00m \u001b[38;5;21;01merr\u001b[39;00m\n\u001b[0;32m    672\u001b[0m \u001b[38;5;28;01mexcept\u001b[39;00m \u001b[38;5;167;01mAttributeError\u001b[39;00m \u001b[38;5;28;01mas\u001b[39;00m err:\n\u001b[0;32m    673\u001b[0m     addr \u001b[38;5;241m=\u001b[39m (\n\u001b[0;32m    674\u001b[0m         \u001b[38;5;28mself\u001b[39m\u001b[38;5;241m.\u001b[39m_unix_socket \u001b[38;5;28;01mif\u001b[39;00m \u001b[38;5;28mself\u001b[39m\u001b[38;5;241m.\u001b[39m_unix_socket \u001b[38;5;28;01melse\u001b[39;00m \u001b[38;5;124mf\u001b[39m\u001b[38;5;124m\"\u001b[39m\u001b[38;5;132;01m{\u001b[39;00m\u001b[38;5;28mself\u001b[39m\u001b[38;5;241m.\u001b[39m_host\u001b[38;5;132;01m}\u001b[39;00m\u001b[38;5;124m:\u001b[39m\u001b[38;5;132;01m{\u001b[39;00m\u001b[38;5;28mself\u001b[39m\u001b[38;5;241m.\u001b[39m_port\u001b[38;5;132;01m}\u001b[39;00m\u001b[38;5;124m\"\u001b[39m\n\u001b[0;32m    675\u001b[0m     )\n",
      "\u001b[1;31mIntegrityError\u001b[0m: 1062 (23000): Duplicate entry '13' for key 'defaulters_list.PRIMARY'"
     ]
    }
   ],
   "source": [
    "import os\n",
    "import speech_recognition as sr\n",
    "\n",
    "class Dashboard:\n",
    "    \n",
    "    def __init__(self, save_folder=\"audio_inputs\"):\n",
    "        self.recognizer = sr.Recognizer()\n",
    "        self.microphone = sr.Microphone()\n",
    "        self.save_folder = save_folder\n",
    "        os.makedirs(self.save_folder, exist_ok=True)\n",
    "        self.count = 0  # Initialize count as an instance variable\n",
    "\n",
    "    @staticmethod  # Use static method as it doesn't depend on instance data\n",
    "    def uniquecode():\n",
    "        count_file_path = \"count.txt\"\n",
    "\n",
    "        with open(count_file_path, \"r\") as count_file:\n",
    "            count = int(count_file.read())  # Read count from file\n",
    "\n",
    "        with open(count_file_path, \"w\") as count_file:\n",
    "            count += 1  # Increment count\n",
    "            count_file.write(str(count))  # Write updated count to file\n",
    "\n",
    "        return count\n",
    "\n",
    "    def convert_audio_to_text(self):\n",
    "        current_uniquecode = self.uniquecode()\n",
    "\n",
    "        # Specify the folder path to save the audio file\n",
    "        audio_file_path = os.path.join(self.save_folder, f\"audio_input_{current_uniquecode}.wav\")\n",
    "\n",
    "        with self.microphone as source:\n",
    "            print(\"Listening...\")\n",
    "            try:\n",
    "                audio_data = self.recognizer.listen(source, timeout=5)  # Adjust timeout as needed\n",
    "                # Save the audio data to a file\n",
    "                with open(audio_file_path, \"wb\") as audio_file:\n",
    "                    audio_file.write(audio_data.get_wav_data())\n",
    "\n",
    "                text = self.recognizer.recognize_google(audio_data)\n",
    "                return text, audio_file_path\n",
    "            except sr.UnknownValueError:\n",
    "                return \"Could not understand audio\", None\n",
    "            except sr.RequestError as e:\n",
    "                return f\"Error connecting to Google API: {e}\", None\n",
    "\n",
    "# Example usage:\n",
    "if __name__ == \"__main__\":\n",
    "    # Specify the custom folder path\n",
    "    custom_folder_path = \"audio_inputs\"\n",
    "\n",
    "    # Create an instance of Dashboard with the custom folder path\n",
    "    dashboard = Dashboard(save_folder=custom_folder_path)\n",
    "\n",
    "    # Example usage:\n",
    "    result, audio_file_path = dashboard.convert_audio_to_text()\n",
    "\n",
    "    if audio_file_path:\n",
    "        print(\"Text from audio:\")\n",
    "        print(result)\n",
    "\n",
    "        # Example usage of undefined functions\n",
    "        output = detect(result)\n",
    "        if output==0:\n",
    "            print(\"Status: All Good\")\n",
    "        else:\n",
    "            # Pass the captured audio file path to Recog_voice (replace with your actual function)\n",
    "            print(\"Status: Foul Detected\")\n",
    "            S_name = Recog_voice(audio_file_path)\n",
    "            storedata(audio_file_path)"
   ]
  },
  {
   "cell_type": "code",
   "execution_count": null,
   "id": "f731a505",
   "metadata": {},
   "outputs": [],
   "source": [
    "#\n"
   ]
  },
  {
   "cell_type": "code",
   "execution_count": null,
   "id": "860ed765",
   "metadata": {},
   "outputs": [],
   "source": []
  },
  {
   "cell_type": "code",
   "execution_count": null,
   "id": "25142265",
   "metadata": {},
   "outputs": [],
   "source": []
  },
  {
   "cell_type": "code",
   "execution_count": null,
   "id": "787ce553",
   "metadata": {},
   "outputs": [],
   "source": []
  },
  {
   "cell_type": "code",
   "execution_count": 6,
   "id": "dc1f89c8",
   "metadata": {},
   "outputs": [
    {
     "name": "stdout",
     "output_type": "stream",
     "text": [
      "<mysql.connector.connection_cext.CMySQLConnection object at 0x000002CEEA5A99D0>\n"
     ]
    }
   ],
   "source": []
  },
  {
   "cell_type": "code",
   "execution_count": 16,
   "id": "9566832c",
   "metadata": {},
   "outputs": [
    {
     "data": {
      "text/plain": [
       "True"
      ]
     },
     "execution_count": 16,
     "metadata": {},
     "output_type": "execute_result"
    }
   ],
   "source": []
  },
  {
   "cell_type": "code",
   "execution_count": 11,
   "id": "a075981a",
   "metadata": {},
   "outputs": [
    {
     "data": {
      "text/plain": [
       "13"
      ]
     },
     "execution_count": 11,
     "metadata": {},
     "output_type": "execute_result"
    }
   ],
   "source": [
    "\n"
   ]
  },
  {
   "cell_type": "code",
   "execution_count": null,
   "id": "8bbe6731",
   "metadata": {},
   "outputs": [],
   "source": []
  },
  {
   "cell_type": "code",
   "execution_count": null,
   "id": "e690b536",
   "metadata": {},
   "outputs": [],
   "source": []
  },
  {
   "cell_type": "code",
   "execution_count": null,
   "id": "44c4328b",
   "metadata": {},
   "outputs": [],
   "source": []
  }
 ],
 "metadata": {
  "kernelspec": {
   "display_name": "Python 3 (ipykernel)",
   "language": "python",
   "name": "python3"
  },
  "language_info": {
   "codemirror_mode": {
    "name": "ipython",
    "version": 3
   },
   "file_extension": ".py",
   "mimetype": "text/x-python",
   "name": "python",
   "nbconvert_exporter": "python",
   "pygments_lexer": "ipython3",
   "version": "3.11.3"
  }
 },
 "nbformat": 4,
 "nbformat_minor": 5
}
